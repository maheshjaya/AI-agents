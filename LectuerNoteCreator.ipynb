{
 "cells": [
  {
   "cell_type": "code",
   "execution_count": null,
   "id": "bacb46a5",
   "metadata": {},
   "outputs": [],
   "source": [
    "from crewai import Agent, Task, Crew\n",
    "\n",
    "# Define the agents\n",
    "search_agent = Agent(\n",
    "    role='Search Agent',\n",
    "    goal='Search for information on a given topic',\n",
    "    backstory='You are skilled at finding relevant information quickly.',\n",
    "    verbose=True\n",
    ")\n",
    "\n",
    "note_agent = Agent(\n",
    "    role='Note Preparation Agent',\n",
    "    goal='Prepare lecture notes based on the search results',\n",
    "    backstory='You are experienced in organizing information and creating structured notes.',\n",
    "    verbose=True\n",
    ")\n",
    "\n",
    "# Define tasks\n",
    "search_task = Task(\n",
    "    description='Search for information on a given topic and gather relevant resources.',\n",
    "    expected_output='Search results (e.g., articles, papers, websites)',\n",
    "    agent=search_agent\n",
    ")\n",
    "\n",
    "note_task = Task(\n",
    "    description='Prepare lecture notes based on the search results.',\n",
    "    expected_output='Structured lecture notes',\n",
    "    agent=note_agent\n",
    ")\n",
    "\n",
    "# Prompt user for topic and specifications\n",
    "topic = input('Enter the topic for lecture notes: ')\n",
    "specifications = input('Enter any specifications or sub-topics to include: ')\n",
    "\n",
    "# Instantiate the crew with the agents and tasks\n",
    "crew = Crew(\n",
    "    agents=[search_agent, note_agent],\n",
    "    tasks=[search_task, note_task],\n",
    "    verbose=True\n",
    ")\n",
    "\n",
    "# Execute the crew tasks\n",
    "result = crew.kickoff()\n",
    "\n",
    "# Display the result\n",
    "print('\\n\\nLecture notes preparation completed successfully.')\n",
    "print('Here are the lecture notes:')\n",
    "print(result[1])  # The lecture notes prepared by the second agent\n"
   ]
  }
 ],
 "metadata": {
  "kernelspec": {
   "display_name": "Python 3 (ipykernel)",
   "language": "python",
   "name": "python3"
  },
  "language_info": {
   "codemirror_mode": {
    "name": "ipython",
    "version": 3
   },
   "file_extension": ".py",
   "mimetype": "text/x-python",
   "name": "python",
   "nbconvert_exporter": "python",
   "pygments_lexer": "ipython3",
   "version": "3.11.7"
  }
 },
 "nbformat": 4,
 "nbformat_minor": 5
}
